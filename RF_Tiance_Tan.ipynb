{
 "cells": [
  {
   "cell_type": "markdown",
   "id": "growing-sally",
   "metadata": {},
   "source": [
    "__Random Forest__\n",
    "\n",
    "__Tiance Tan__\n",
    "\n",
    "\n",
    "GOAL: Apply Random Forest to predict target variable(activity) on a 5 node m4.2xlarge cluster."
   ]
  },
  {
   "cell_type": "code",
   "execution_count": 1,
   "id": "satisfied-directive",
   "metadata": {},
   "outputs": [
    {
     "data": {
      "application/vnd.jupyter.widget-view+json": {
       "model_id": "61425ab37f184b449bb409c80d724346",
       "version_major": 2,
       "version_minor": 0
      },
      "text/plain": [
       "VBox()"
      ]
     },
     "metadata": {},
     "output_type": "display_data"
    },
    {
     "name": "stdout",
     "output_type": "stream",
     "text": [
      "Starting Spark application\n"
     ]
    },
    {
     "data": {
      "text/html": [
       "<table>\n",
       "<tr><th>ID</th><th>YARN Application ID</th><th>Kind</th><th>State</th><th>Spark UI</th><th>Driver log</th><th>Current session?</th></tr><tr><td>13</td><td>application_1615517943854_0014</td><td>pyspark</td><td>idle</td><td><a target=\"_blank\" href=\"http://ip-172-31-30-184.us-east-2.compute.internal:20888/proxy/application_1615517943854_0014/\">Link</a></td><td><a target=\"_blank\" href=\"http://ip-172-31-22-141.us-east-2.compute.internal:8042/node/containerlogs/container_1615517943854_0014_01_000001/livy\">Link</a></td><td>✔</td></tr></table>"
      ],
      "text/plain": [
       "<IPython.core.display.HTML object>"
      ]
     },
     "metadata": {},
     "output_type": "display_data"
    },
    {
     "data": {
      "application/vnd.jupyter.widget-view+json": {
       "model_id": "",
       "version_major": 2,
       "version_minor": 0
      },
      "text/plain": [
       "FloatProgress(value=0.0, bar_style='info', description='Progress:', layout=Layout(height='25px', width='50%'),…"
      ]
     },
     "metadata": {},
     "output_type": "display_data"
    },
    {
     "name": "stdout",
     "output_type": "stream",
     "text": [
      "SparkSession available as 'spark'.\n"
     ]
    },
    {
     "data": {
      "application/vnd.jupyter.widget-view+json": {
       "model_id": "",
       "version_major": 2,
       "version_minor": 0
      },
      "text/plain": [
       "FloatProgress(value=0.0, bar_style='info', description='Progress:', layout=Layout(height='25px', width='50%'),…"
      ]
     },
     "metadata": {},
     "output_type": "display_data"
    }
   ],
   "source": [
    "from pyspark.sql import Window\n",
    "from pyspark.ml.feature import StringIndexer\n",
    "from pyspark.ml.feature import OneHotEncoder\n",
    "from pyspark.ml.feature import StandardScaler\n",
    "from pyspark.ml.feature import VectorAssembler\n",
    "from pyspark.ml.classification import RandomForestClassifier\n",
    "from pyspark.ml.classification import GBTClassifier\n",
    "from pyspark.ml.evaluation import MulticlassClassificationEvaluator\n",
    "from pyspark.ml.evaluation import BinaryClassificationEvaluator\n",
    "from pyspark.ml.tuning import CrossValidator\n",
    "from pyspark.ml.evaluation import MulticlassClassificationEvaluator\n",
    "from pyspark.ml.tuning import ParamGridBuilder\n",
    "from pyspark.ml import Pipeline\n",
    "import numpy as np\n",
    "from pyspark.sql import SparkSession\n",
    "from pyspark.sql.types import *\n",
    "from pyspark.sql import Row\n",
    "from pyspark.sql.functions import *\n",
    "from pyspark import SparkContext\n",
    "ss = SparkSession.builder.getOrCreate()\n"
   ]
  },
  {
   "cell_type": "code",
   "execution_count": 2,
   "id": "canadian-century",
   "metadata": {},
   "outputs": [
    {
     "name": "stdout",
     "output_type": "stream",
     "text": [
      "Starting Spark application\n"
     ]
    },
    {
     "data": {
      "text/html": [
       "<table>\n",
       "<tr><th>ID</th><th>YARN Application ID</th><th>Kind</th><th>State</th><th>Spark UI</th><th>Driver log</th><th>Current session?</th></tr><tr><td>12</td><td>application_1615517943854_0013</td><td>pyspark</td><td>idle</td><td><a target=\"_blank\" href=\"http://ip-172-31-30-184.us-east-2.compute.internal:20888/proxy/application_1615517943854_0013/\">Link</a></td><td><a target=\"_blank\" href=\"http://ip-172-31-25-130.us-east-2.compute.internal:8042/node/containerlogs/container_1615517943854_0013_01_000001/livy\">Link</a></td><td>✔</td></tr></table>"
      ],
      "text/plain": [
       "<IPython.core.display.HTML object>"
      ]
     },
     "metadata": {},
     "output_type": "display_data"
    },
    {
     "data": {
      "application/vnd.jupyter.widget-view+json": {
       "model_id": "",
       "version_major": 2,
       "version_minor": 0
      },
      "text/plain": [
       "FloatProgress(value=0.0, bar_style='info', description='Progress:', layout=Layout(height='25px', width='50%'),…"
      ]
     },
     "metadata": {},
     "output_type": "display_data"
    },
    {
     "name": "stdout",
     "output_type": "stream",
     "text": [
      "SparkSession available as 'spark'.\n"
     ]
    },
    {
     "data": {
      "text/html": [
       "Current session configs: <tt>{'conf': {'spark.pyspark.python': 'python3', 'spark.pyspark.virtualenv.enabled': 'true', 'spark.pyspark.virtualenv.type': 'native', 'spark.pyspark.virtualenv.bin.path': '/usr/bin/virtualenv', 'spark.executor.heartbeatInterval': '10800s', 'spark.network.timeout': '24h', 'spark.driver.memory': '20G', 'spark.executor.memory': '20G', 'spark.executor.cores': '8', 'livy.server.session.timeout': '24h', 'spark.dynamicAllocation.enabled': 'false', 'spark.ext.h2o.fail.on.unsupported.spark.param': 'false', 'spark.app.name': 'msds694'}, 'kind': 'pyspark'}</tt><br>"
      ],
      "text/plain": [
       "<IPython.core.display.HTML object>"
      ]
     },
     "metadata": {},
     "output_type": "display_data"
    },
    {
     "data": {
      "text/html": [
       "<table>\n",
       "<tr><th>ID</th><th>YARN Application ID</th><th>Kind</th><th>State</th><th>Spark UI</th><th>Driver log</th><th>Current session?</th></tr><tr><td>12</td><td>application_1615517943854_0013</td><td>pyspark</td><td>idle</td><td><a target=\"_blank\" href=\"http://ip-172-31-30-184.us-east-2.compute.internal:20888/proxy/application_1615517943854_0013/\">Link</a></td><td><a target=\"_blank\" href=\"http://ip-172-31-25-130.us-east-2.compute.internal:8042/node/containerlogs/container_1615517943854_0013_01_000001/livy\">Link</a></td><td>✔</td></tr></table>"
      ],
      "text/plain": [
       "<IPython.core.display.HTML object>"
      ]
     },
     "metadata": {},
     "output_type": "display_data"
    }
   ],
   "source": [
    "%%configure -f \n",
    "{\n",
    "\"conf\":{\n",
    "        \"spark.pyspark.python\": \"python3\",\n",
    "        \"spark.pyspark.virtualenv.enabled\": \"true\",\n",
    "        \"spark.pyspark.virtualenv.type\":\"native\",\n",
    "        \"spark.pyspark.virtualenv.bin.path\":\"/usr/bin/virtualenv\",\n",
    "        \"spark.executor.heartbeatInterval\":\"10800s\",\n",
    "        \"spark.network.timeout\":\"24h\",\n",
    "        \"spark.driver.memory\": \"20G\",\n",
    "        \"spark.executor.memory\": \"20G\",\n",
    "        \"spark.executor.cores\":\"8\",\n",
    "        \"livy.server.session.timeout\":\"24h\",\n",
    "        \"spark.dynamicAllocation.enabled\":\"false\",\n",
    "        \"spark.ext.h2o.fail.on.unsupported.spark.param\":\"false\",    \n",
    "        \"spark.app.name\":\"msds694\"\n",
    "      }\n",
    "}\n",
    "\n"
   ]
  },
  {
   "cell_type": "code",
   "execution_count": null,
   "id": "intended-feeding",
   "metadata": {},
   "outputs": [],
   "source": []
  },
  {
   "cell_type": "code",
   "execution_count": 2,
   "id": "buried-significance",
   "metadata": {},
   "outputs": [
    {
     "data": {
      "application/vnd.jupyter.widget-view+json": {
       "model_id": "3dfd8b0b680249e391f0fe530ced9c23",
       "version_major": 2,
       "version_minor": 0
      },
      "text/plain": [
       "VBox()"
      ]
     },
     "metadata": {},
     "output_type": "display_data"
    },
    {
     "data": {
      "application/vnd.jupyter.widget-view+json": {
       "model_id": "",
       "version_major": 2,
       "version_minor": 0
      },
      "text/plain": [
       "FloatProgress(value=0.0, bar_style='info', description='Progress:', layout=Layout(height='25px', width='50%'),…"
      ]
     },
     "metadata": {},
     "output_type": "display_data"
    }
   ],
   "source": [
    "raw = ss.read.csv(\"s3://msds694-group6/casas-dataset/*\", header=True)\n"
   ]
  },
  {
   "cell_type": "code",
   "execution_count": 3,
   "id": "mediterranean-experience",
   "metadata": {},
   "outputs": [
    {
     "data": {
      "application/vnd.jupyter.widget-view+json": {
       "model_id": "87631f39eefe44b8a8ebd1f9920de4f1",
       "version_major": 2,
       "version_minor": 0
      },
      "text/plain": [
       "VBox()"
      ]
     },
     "metadata": {},
     "output_type": "display_data"
    },
    {
     "data": {
      "application/vnd.jupyter.widget-view+json": {
       "model_id": "",
       "version_major": 2,
       "version_minor": 0
      },
      "text/plain": [
       "FloatProgress(value=0.0, bar_style='info', description='Progress:', layout=Layout(height='25px', width='50%'),…"
      ]
     },
     "metadata": {},
     "output_type": "display_data"
    }
   ],
   "source": [
    "def indexStringColumns(df, cols):\n",
    "    \n",
    "    newdf = df\n",
    "    for c in cols:\n",
    "        si = StringIndexer(inputCol=c, outputCol=c+\"-num\")\n",
    "        sm = si.fit(newdf)\n",
    "        newdf = sm.transform(newdf).drop(c)\n",
    "        newdf = newdf.withColumnRenamed(c+\"-num\", c)\n",
    "    return newdf\n",
    "\n",
    "data = raw.replace([\"r2.Eat_Breakfast\"], [\"Eat_Breakfast\"], [\"activity\"])\\\n",
    "          .replace([\"r2.Personal_Hygiene\"], [\"Personal_Hygiene\"], [\"activity\"])\n",
    "\n",
    "datanumeric = indexStringColumns(data, ['activity'])"
   ]
  },
  {
   "cell_type": "code",
   "execution_count": 4,
   "id": "crucial-computer",
   "metadata": {},
   "outputs": [
    {
     "data": {
      "application/vnd.jupyter.widget-view+json": {
       "model_id": "78e78c7a368246108ea6fcbd2e9ee555",
       "version_major": 2,
       "version_minor": 0
      },
      "text/plain": [
       "VBox()"
      ]
     },
     "metadata": {},
     "output_type": "display_data"
    },
    {
     "data": {
      "application/vnd.jupyter.widget-view+json": {
       "model_id": "",
       "version_major": 2,
       "version_minor": 0
      },
      "text/plain": [
       "FloatProgress(value=0.0, bar_style='info', description='Progress:', layout=Layout(height='25px', width='50%'),…"
      ]
     },
     "metadata": {},
     "output_type": "display_data"
    },
    {
     "name": "stdout",
     "output_type": "stream",
     "text": [
      "root\n",
      " |-- lastSensorEventHours: float (nullable = true)\n",
      " |-- lastSensorEventSeconds: float (nullable = true)\n",
      " |-- lastSensorDayOfWeek: float (nullable = true)\n",
      " |-- windowDuration: float (nullable = true)\n",
      " |-- timeSinceLastSensorEvent: float (nullable = true)\n",
      " |-- prevDominantSensor1: float (nullable = true)\n",
      " |-- prevDominantSensor2: float (nullable = true)\n",
      " |-- lastSensorID: float (nullable = true)\n",
      " |-- lastSensorLocation: float (nullable = true)\n",
      " |-- lastMotionLocation: float (nullable = true)\n",
      " |-- complexity: float (nullable = true)\n",
      " |-- activityChange: float (nullable = true)\n",
      " |-- areaTransitions: float (nullable = true)\n",
      " |-- numDistinctSensors: float (nullable = true)\n",
      " |-- sensorCount-Bathroom: float (nullable = true)\n",
      " |-- sensorCount-Bedroom: float (nullable = true)\n",
      " |-- sensorCount-Chair: float (nullable = true)\n",
      " |-- sensorCount-DiningRoom: float (nullable = true)\n",
      " |-- sensorCount-Hall: float (nullable = true)\n",
      " |-- sensorCount-Ignore: float (nullable = true)\n",
      " |-- sensorCount-Kitchen: float (nullable = true)\n",
      " |-- sensorCount-LivingRoom: float (nullable = true)\n",
      " |-- sensorCount-Office: float (nullable = true)\n",
      " |-- sensorCount-OutsideDoor: float (nullable = true)\n",
      " |-- sensorCount-WorkArea: float (nullable = true)\n",
      " |-- sensorElTime-Bathroom: float (nullable = true)\n",
      " |-- sensorElTime-Bedroom: float (nullable = true)\n",
      " |-- sensorElTime-Chair: float (nullable = true)\n",
      " |-- sensorElTime-DiningRoom: float (nullable = true)\n",
      " |-- sensorElTime-Hall: float (nullable = true)\n",
      " |-- sensorElTime-Ignore: float (nullable = true)\n",
      " |-- sensorElTime-Kitchen: float (nullable = true)\n",
      " |-- sensorElTime-LivingRoom: float (nullable = true)\n",
      " |-- sensorElTime-Office: float (nullable = true)\n",
      " |-- sensorElTime-OutsideDoor: float (nullable = true)\n",
      " |-- sensorElTime-WorkArea: float (nullable = true)\n",
      " |-- activity: float (nullable = false)"
     ]
    }
   ],
   "source": [
    "df_numeric = datanumeric.select(*(col(c).cast(\"float\").alias(c) for c in raw.columns))\n",
    "df_numeric.printSchema()"
   ]
  },
  {
   "cell_type": "code",
   "execution_count": 5,
   "id": "given-airline",
   "metadata": {},
   "outputs": [
    {
     "data": {
      "application/vnd.jupyter.widget-view+json": {
       "model_id": "51fb75659f18421eaecbb8cad6d09d86",
       "version_major": 2,
       "version_minor": 0
      },
      "text/plain": [
       "VBox()"
      ]
     },
     "metadata": {},
     "output_type": "display_data"
    },
    {
     "data": {
      "application/vnd.jupyter.widget-view+json": {
       "model_id": "",
       "version_major": 2,
       "version_minor": 0
      },
      "text/plain": [
       "FloatProgress(value=0.0, bar_style='info', description='Progress:', layout=Layout(height='25px', width='50%'),…"
      ]
     },
     "metadata": {},
     "output_type": "display_data"
    }
   ],
   "source": [
    "from pyspark.ml.feature import VectorAssembler\n",
    "\n",
    "input_cols=df_numeric.columns[:-1]\n",
    "\n",
    "va = VectorAssembler(outputCol=\"features\", inputCols=input_cols)\n",
    "\n",
    "df_vec = va.transform(df_numeric).select(\"features\", \"activity\").withColumnRenamed(\"activity\", \"label\")"
   ]
  },
  {
   "cell_type": "code",
   "execution_count": 6,
   "id": "included-proof",
   "metadata": {},
   "outputs": [
    {
     "data": {
      "application/vnd.jupyter.widget-view+json": {
       "model_id": "ffc8efbb9337444b9e51b1d69fe7ff23",
       "version_major": 2,
       "version_minor": 0
      },
      "text/plain": [
       "VBox()"
      ]
     },
     "metadata": {},
     "output_type": "display_data"
    },
    {
     "data": {
      "application/vnd.jupyter.widget-view+json": {
       "model_id": "",
       "version_major": 2,
       "version_minor": 0
      },
      "text/plain": [
       "FloatProgress(value=0.0, bar_style='info', description='Progress:', layout=Layout(height='25px', width='50%'),…"
      ]
     },
     "metadata": {},
     "output_type": "display_data"
    },
    {
     "name": "stdout",
     "output_type": "stream",
     "text": [
      "+--------------------+-----+\n",
      "|            features|label|\n",
      "+--------------------+-----+\n",
      "|(36,[0,1,2,3,4,5,...|  5.0|\n",
      "|(36,[0,1,2,3,4,5,...|  5.0|\n",
      "|(36,[0,1,2,3,4,5,...|  5.0|\n",
      "|(36,[0,1,2,3,4,5,...|  5.0|\n",
      "|(36,[0,1,2,3,4,5,...|  5.0|\n",
      "|(36,[0,1,2,3,4,5,...|  5.0|\n",
      "|(36,[0,1,2,3,4,5,...|  5.0|\n",
      "|(36,[0,1,2,3,4,5,...|  5.0|\n",
      "|(36,[0,1,2,3,4,5,...|  5.0|\n",
      "|(36,[0,1,2,3,4,5,...|  5.0|\n",
      "|(36,[0,1,2,3,4,5,...|  5.0|\n",
      "|(36,[0,1,2,3,4,5,...|  5.0|\n",
      "|(36,[0,1,2,3,4,5,...|  5.0|\n",
      "|(36,[0,1,2,3,4,5,...|  5.0|\n",
      "|(36,[0,1,2,3,4,5,...|  5.0|\n",
      "|(36,[0,1,2,3,4,5,...|  5.0|\n",
      "|(36,[0,1,2,3,4,5,...|  5.0|\n",
      "|(36,[0,1,2,3,4,5,...|  5.0|\n",
      "|(36,[0,1,2,3,4,5,...|  5.0|\n",
      "|(36,[0,1,2,3,4,5,...|  5.0|\n",
      "+--------------------+-----+\n",
      "only showing top 20 rows"
     ]
    }
   ],
   "source": [
    "df_vec.orderBy('features').show()\n"
   ]
  },
  {
   "cell_type": "code",
   "execution_count": 7,
   "id": "working-consultancy",
   "metadata": {},
   "outputs": [
    {
     "data": {
      "application/vnd.jupyter.widget-view+json": {
       "model_id": "7f499e32412041c580936e5912cb7e97",
       "version_major": 2,
       "version_minor": 0
      },
      "text/plain": [
       "VBox()"
      ]
     },
     "metadata": {},
     "output_type": "display_data"
    },
    {
     "data": {
      "application/vnd.jupyter.widget-view+json": {
       "model_id": "",
       "version_major": 2,
       "version_minor": 0
      },
      "text/plain": [
       "FloatProgress(value=0.0, bar_style='info', description='Progress:', layout=Layout(height='25px', width='50%'),…"
      ]
     },
     "metadata": {},
     "output_type": "display_data"
    }
   ],
   "source": [
    "from pyspark.ml.feature import StandardScaler\n",
    "scaler = StandardScaler(inputCol=\"features\", outputCol=\"scaledFeatures\",\n",
    "                        withStd=True, withMean=True)\n",
    "\n",
    "scalerModel = scaler.fit(df_vec)\n",
    "\n",
    "scaledData = scalerModel.transform(df_vec).select('scaledFeatures', 'label')\\\n",
    "                        .withColumnRenamed(\"scaledFeatures\", \"features\")"
   ]
  },
  {
   "cell_type": "code",
   "execution_count": 8,
   "id": "satellite-henry",
   "metadata": {},
   "outputs": [
    {
     "data": {
      "application/vnd.jupyter.widget-view+json": {
       "model_id": "5bfe06a67a9547f58b5ce9ca74d52067",
       "version_major": 2,
       "version_minor": 0
      },
      "text/plain": [
       "VBox()"
      ]
     },
     "metadata": {},
     "output_type": "display_data"
    },
    {
     "data": {
      "application/vnd.jupyter.widget-view+json": {
       "model_id": "",
       "version_major": 2,
       "version_minor": 0
      },
      "text/plain": [
       "FloatProgress(value=0.0, bar_style='info', description='Progress:', layout=Layout(height='25px', width='50%'),…"
      ]
     },
     "metadata": {},
     "output_type": "display_data"
    }
   ],
   "source": [
    "from pyspark.ml.feature import PCA as PCAml\n",
    "from pyspark.ml.linalg import Vectors  \n",
    "\n",
    "pca = PCAml(k=10, inputCol=\"features\", outputCol=\"pca\")\n",
    "model = pca.fit(scaledData)\n",
    "transformed = model.transform(scaledData)"
   ]
  },
  {
   "cell_type": "code",
   "execution_count": 9,
   "id": "mineral-count",
   "metadata": {},
   "outputs": [
    {
     "data": {
      "application/vnd.jupyter.widget-view+json": {
       "model_id": "c4a98ed7a8874ceda5a90ffbe7839ab3",
       "version_major": 2,
       "version_minor": 0
      },
      "text/plain": [
       "VBox()"
      ]
     },
     "metadata": {},
     "output_type": "display_data"
    },
    {
     "data": {
      "application/vnd.jupyter.widget-view+json": {
       "model_id": "",
       "version_major": 2,
       "version_minor": 0
      },
      "text/plain": [
       "FloatProgress(value=0.0, bar_style='info', description='Progress:', layout=Layout(height='25px', width='50%'),…"
      ]
     },
     "metadata": {},
     "output_type": "display_data"
    }
   ],
   "source": [
    "transformed = transformed.select('pca', 'label').withColumnRenamed(\"pca\", \"features\")"
   ]
  },
  {
   "cell_type": "code",
   "execution_count": 10,
   "id": "compound-referral",
   "metadata": {},
   "outputs": [
    {
     "data": {
      "application/vnd.jupyter.widget-view+json": {
       "model_id": "33ec5cdc3e554e19ad327e7a2cf5bc05",
       "version_major": 2,
       "version_minor": 0
      },
      "text/plain": [
       "VBox()"
      ]
     },
     "metadata": {},
     "output_type": "display_data"
    },
    {
     "data": {
      "application/vnd.jupyter.widget-view+json": {
       "model_id": "",
       "version_major": 2,
       "version_minor": 0
      },
      "text/plain": [
       "FloatProgress(value=0.0, bar_style='info', description='Progress:', layout=Layout(height='25px', width='50%'),…"
      ]
     },
     "metadata": {},
     "output_type": "display_data"
    }
   ],
   "source": [
    "(data1, data2) = transformed.randomSplit([0.2, 0.8])\n",
    "(trainingData, testData) = data1.randomSplit([0.8, 0.2])\n"
   ]
  },
  {
   "cell_type": "code",
   "execution_count": null,
   "id": "backed-liver",
   "metadata": {},
   "outputs": [],
   "source": []
  },
  {
   "cell_type": "code",
   "execution_count": 11,
   "id": "occasional-program",
   "metadata": {},
   "outputs": [
    {
     "data": {
      "application/vnd.jupyter.widget-view+json": {
       "model_id": "421c1b8eda584b45bc20be9508c92eae",
       "version_major": 2,
       "version_minor": 0
      },
      "text/plain": [
       "VBox()"
      ]
     },
     "metadata": {},
     "output_type": "display_data"
    },
    {
     "data": {
      "application/vnd.jupyter.widget-view+json": {
       "model_id": "",
       "version_major": 2,
       "version_minor": 0
      },
      "text/plain": [
       "FloatProgress(value=0.0, bar_style='info', description='Progress:', layout=Layout(height='25px', width='50%'),…"
      ]
     },
     "metadata": {},
     "output_type": "display_data"
    },
    {
     "name": "stdout",
     "output_type": "stream",
     "text": [
      "10"
     ]
    }
   ],
   "source": [
    "rf = RandomForestClassifier(maxDepth=10)\n",
    "\n",
    "pipeline = Pipeline(stages=[rf])\n",
    "evaluator = BinaryClassificationEvaluator()\n",
    "paramGrid = ParamGridBuilder().addGrid(rf.numTrees, [10,100]).build()\n",
    "cv = CrossValidator(estimator=pipeline,\n",
    "                    evaluator=evaluator,\n",
    "                    numFolds=5,\n",
    "                    estimatorParamMaps=paramGrid)\n",
    "\n",
    "cvmodel = cv.fit(trainingData)\n",
    "print(cvmodel.bestModel.stages[-1]._java_obj.parent().getNumTrees())"
   ]
  },
  {
   "cell_type": "code",
   "execution_count": 12,
   "id": "objective-smart",
   "metadata": {},
   "outputs": [
    {
     "data": {
      "application/vnd.jupyter.widget-view+json": {
       "model_id": "0a8e3557a3274d1883c10ee27180d05b",
       "version_major": 2,
       "version_minor": 0
      },
      "text/plain": [
       "VBox()"
      ]
     },
     "metadata": {},
     "output_type": "display_data"
    },
    {
     "data": {
      "application/vnd.jupyter.widget-view+json": {
       "model_id": "",
       "version_major": 2,
       "version_minor": 0
      },
      "text/plain": [
       "FloatProgress(value=0.0, bar_style='info', description='Progress:', layout=Layout(height='25px', width='50%'),…"
      ]
     },
     "metadata": {},
     "output_type": "display_data"
    },
    {
     "name": "stdout",
     "output_type": "stream",
     "text": [
      "0.4226"
     ]
    }
   ],
   "source": [
    "rfpredict = cvmodel.bestModel.transform(testData)\n",
    "\n",
    "metric_name = \"f1\"\n",
    "metrics = MulticlassClassificationEvaluator()\\\n",
    "                .setLabelCol(\"label\")\\\n",
    "                .setPredictionCol(\"prediction\")\n",
    "metrics.setMetricName(metric_name)\n",
    "print(np.round(metrics.evaluate(rfpredict), 4))\n",
    "print()\n"
   ]
  },
  {
   "cell_type": "code",
   "execution_count": 13,
   "id": "external-boost",
   "metadata": {},
   "outputs": [
    {
     "data": {
      "application/vnd.jupyter.widget-view+json": {
       "model_id": "5d496e410ee844a7a86c2f3a7dd7d352",
       "version_major": 2,
       "version_minor": 0
      },
      "text/plain": [
       "VBox()"
      ]
     },
     "metadata": {},
     "output_type": "display_data"
    },
    {
     "data": {
      "application/vnd.jupyter.widget-view+json": {
       "model_id": "",
       "version_major": 2,
       "version_minor": 0
      },
      "text/plain": [
       "FloatProgress(value=0.0, bar_style='info', description='Progress:', layout=Layout(height='25px', width='50%'),…"
      ]
     },
     "metadata": {},
     "output_type": "display_data"
    }
   ],
   "source": [
    "sc.stop()"
   ]
  },
  {
   "cell_type": "code",
   "execution_count": null,
   "id": "useful-resolution",
   "metadata": {},
   "outputs": [],
   "source": []
  },
  {
   "cell_type": "code",
   "execution_count": null,
   "id": "european-firmware",
   "metadata": {},
   "outputs": [],
   "source": []
  },
  {
   "cell_type": "code",
   "execution_count": null,
   "id": "statistical-kernel",
   "metadata": {},
   "outputs": [],
   "source": []
  }
 ],
 "metadata": {
  "kernelspec": {
   "display_name": "PySpark",
   "language": "",
   "name": "pysparkkernel"
  },
  "language_info": {
   "codemirror_mode": {
    "name": "python",
    "version": 2
   },
   "mimetype": "text/x-python",
   "name": "pyspark",
   "pygments_lexer": "python2"
  }
 },
 "nbformat": 4,
 "nbformat_minor": 5
}
